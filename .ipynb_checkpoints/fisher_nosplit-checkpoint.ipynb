{
 "cells": [
  {
   "cell_type": "code",
   "execution_count": 1,
   "metadata": {
    "colab": {},
    "colab_type": "code",
    "id": "8uiCBkM0lpgE"
   },
   "outputs": [],
   "source": [
    "import numpy as np\n",
    "import pandas as pd\n",
    "from numpy.linalg import inv as inv\n",
    "import matplotlib.pyplot as plt\n",
    "from scipy.stats import norm as norm\n",
    "from sklearn.model_selection import train_test_split"
   ]
  },
  {
   "cell_type": "code",
   "execution_count": 2,
   "metadata": {
    "colab": {},
    "colab_type": "code",
    "id": "cKAcuH1flpgK"
   },
   "outputs": [],
   "source": [
    "def plot_pdfs(mean1, mean2, std1, std2, threshold, dataset_name):\n",
    "    # change X limits for pdf plot to -3 to 3 if normalised W is used. Otherwise set it to -30 to 30 \n",
    "    X_axis = np.linspace(-3.0,3.0,100000)\n",
    "    plt.plot(X_axis, norm.pdf(X_axis, mean1, std1),'-', color='b',label='Class 1 (value 1)')    \n",
    "    plt.plot(X_axis, norm.pdf(X_axis, mean2, std2),'-', color='r',label='Class 2 (value 0)')\n",
    "    plt.plot([threshold], norm.pdf([threshold], mean1, std1), '.', color='g',label='Threshold')\n",
    "    plt.legend(loc = 'upper right')\n",
    "    plt.title('Normal distributions. Threshold = '+ str(threshold))\n",
    "    plt.savefig('plots/' + str(dataset_name) + '_FldaNormDistribution.png')\n",
    "    plt.show()"
   ]
  },
  {
   "cell_type": "code",
   "execution_count": 3,
   "metadata": {
    "colab": {},
    "colab_type": "code",
    "id": "KEEa1HDblpgO"
   },
   "outputs": [],
   "source": [
    "def plot_projections(projections, y_test, threshold, dataset_name):\n",
    "    proj_pred_data = pd.DataFrame(np.concatenate((projections, y_test), axis=1))\n",
    "    proj1_pred = proj_pred_data.loc[proj_pred_data[1] == 1][[0]]\n",
    "    proj2_pred = proj_pred_data.loc[proj_pred_data[1] == 0][[0]]    \n",
    "    plt.plot(proj1_pred, np.ones(proj1_pred.shape), '.', color='b', label='Class 1 (value 1)')\n",
    "    plt.plot(proj2_pred, np.ones(proj2_pred.shape), '.', color='r',label='Class 2 (value 0)')\n",
    "    plt.plot([threshold], [1], '.', color='g',label='Threshold')\n",
    "    plt.legend(loc = 'upper right')\n",
    "    plt.title('Projections onto W vector. Threshold = '+ str(threshold))\n",
    "    plt.savefig('plots/' + str(dataset_name) + '_FldaProjections.png')\n",
    "    plt.show()"
   ]
  },
  {
   "cell_type": "code",
   "execution_count": 4,
   "metadata": {
    "colab": {},
    "colab_type": "code",
    "id": "EyP2qDQQlpgR"
   },
   "outputs": [],
   "source": [
    "def solve_pdfs(pdf_mean_1, pdf_mean_2, pdf_std_1, pdf_std_2):\n",
    "    coeff1 = 1/(2*pdf_std_1**2) - 1/(2*pdf_std_2**2)\n",
    "    coeff2 = pdf_mean_2/(pdf_std_2**2) - pdf_mean_1/(pdf_std_1**2)\n",
    "    coeff3 = pdf_mean_1**2 /(2*pdf_std_1**2) - pdf_mean_2**2 / (2*pdf_std_2**2) - np.log(pdf_std_2/pdf_std_1)\n",
    "\n",
    "    coeffs = [coeff1, coeff2, coeff3]\n",
    "\n",
    "    roots_of_eq = np.roots(coeffs)\n",
    "    threshold = roots_of_eq[1]\n",
    "    return threshold"
   ]
  },
  {
   "cell_type": "code",
   "execution_count": 5,
   "metadata": {
    "colab": {},
    "colab_type": "code",
    "id": "DPA7YKHrlpgV"
   },
   "outputs": [],
   "source": [
    "def find_w_cordinates(X_train1, X_train2):\n",
    "    \n",
    "    # 1. Find M1, M2, Cov1, Cov2\n",
    "    Mean1 = np.mean(X_train1,axis=0)\n",
    "    Mean2 = np.mean(X_train2,axis=0)\n",
    "    Mean_difference = np.subtract(Mean1,Mean2)\n",
    "\n",
    "    Cov1 = np.cov(np.transpose(X_train1))\n",
    "    Cov2 = np.cov(np.transpose(X_train2))\n",
    "\n",
    "    # 2. Within class spread Sw = Cov1 + Cov2  \n",
    "    Sw_inv = np.linalg.inv(np.add(Cov1,Cov2))\n",
    "    \n",
    "    # 3. W = (Sw_inv).(M1-M2)\n",
    "    W = np.dot(Sw_inv,Mean_difference)\n",
    "    \n",
    "    # 4. Normalise W\n",
    "    W_norm = W / np.linalg.norm(W)\n",
    "    \n",
    "    # Note:\n",
    "    # change X limits for pdf plot to -30 to 30 if W is used\n",
    "    # change X limits for pdf plot to -3 to 3 if normalised W is used\n",
    "    \n",
    "    return W_norm"
   ]
  },
  {
   "cell_type": "code",
   "execution_count": 6,
   "metadata": {
    "colab": {},
    "colab_type": "code",
    "id": "pexi6axPlpgc"
   },
   "outputs": [],
   "source": [
    "def find_threshold(X_train1, X_train2, W, dataset_name):\n",
    "    # Threshold = point of intersection of the pdfs (probability density functions)\n",
    "    \n",
    "    # 1. Find Projections\n",
    "    Proj1 = np.dot(W,X_train1.transpose())\n",
    "    Proj2 = np.dot(W,X_train2.transpose())\n",
    "    \n",
    "    # 2. Find Means of the projected data for class 1 and 2\n",
    "    proj_mean1 = np.mean(Proj1)\n",
    "    proj_mean2 = np.mean(Proj2)\n",
    "\n",
    "    # 3. Find Std deviations of the projected data for class 1 and 2\n",
    "    proj_std1 = np.std(Proj1)\n",
    "    proj_std2 = np.std(Proj2)\n",
    "\n",
    "    # 4. Solve the equations\n",
    "    threshold = solve_pdfs(proj_mean1, proj_mean2, proj_std1, proj_std2)\n",
    "    \n",
    "    # Plot the pdfs\n",
    "    plot_pdfs(proj_mean1, proj_mean2, proj_std1, proj_std2, threshold, dataset_name)\n",
    "    return threshold"
   ]
  },
  {
   "cell_type": "code",
   "execution_count": 7,
   "metadata": {
    "colab": {},
    "colab_type": "code",
    "id": "ebnwkAodlpgf"
   },
   "outputs": [],
   "source": [
    "def find_predictions(X_test, W, threshold):\n",
    "    \n",
    "    # Project the Test data onto W\n",
    "    proj_testdata = np.dot(W, X_test.transpose()).reshape(X_test.shape[0],1)\n",
    "    \n",
    "    # Compare with threshold\n",
    "    predictions = (proj_testdata >= threshold).astype(int).reshape(X_test.shape[0],1)\n",
    "    \n",
    "    return proj_testdata, predictions"
   ]
  },
  {
   "cell_type": "code",
   "execution_count": 8,
   "metadata": {
    "colab": {},
    "colab_type": "code",
    "id": "-rdB6rUrlpgn"
   },
   "outputs": [],
   "source": [
    "def accuracy(actual, predicted):\n",
    "    # Accuracy = (TP + TN)/(TP + TN + FP + FN)\n",
    "    \n",
    "    return np.mean((actual == predicted).astype(int))"
   ]
  },
  {
   "cell_type": "code",
   "execution_count": 9,
   "metadata": {
    "colab": {},
    "colab_type": "code",
    "id": "IAb_-UiSlpgv"
   },
   "outputs": [],
   "source": [
    "def precision(actual, predicted):\n",
    "    # Precision = (TP)/(TP + FP) = True pos out of the actual results\n",
    "    \n",
    "    TP = np.count_nonzero(np.logical_and((actual == 1) , (predicted == 1)).astype(int))\n",
    "    FP = np.count_nonzero(np.logical_and((actual == 0) , (predicted == 1)).astype(int))\n",
    "    return TP/(TP + FP)"
   ]
  },
  {
   "cell_type": "code",
   "execution_count": 10,
   "metadata": {
    "colab": {},
    "colab_type": "code",
    "id": "OTgZj8sAlpg0"
   },
   "outputs": [],
   "source": [
    "def recall(actual, predicted):\n",
    "    # Recall = (TP)/(TP + FN) = True pos out of the predicted results\n",
    "    \n",
    "    TP = np.count_nonzero(np.logical_and((actual == 1) , (predicted == 1)).astype(int))\n",
    "    FN = np.count_nonzero(np.logical_and((actual == 1) , (predicted == 0)).astype(int))\n",
    "    return TP/(TP + FN)"
   ]
  },
  {
   "cell_type": "code",
   "execution_count": 11,
   "metadata": {
    "colab": {},
    "colab_type": "code",
    "id": "zBewOvEOlpg5"
   },
   "outputs": [],
   "source": [
    "def f_score(actual , predicted):\n",
    "    # F_Score = 2PR/(P+R)\n",
    "    \n",
    "    P = precision(actual, predicted)\n",
    "    R = recall(actual, predicted)\n",
    "    return 2*P*R/(P + R)"
   ]
  },
  {
   "cell_type": "code",
   "execution_count": 12,
   "metadata": {
    "colab": {},
    "colab_type": "code",
    "id": "kvBW0HT-lphC",
    "scrolled": true
   },
   "outputs": [],
   "source": [
    "def fisher(X_train1, X_train2, X_test, y_test, dataset_name):\n",
    "    \n",
    "    # 1. Find Projection Line\n",
    "    W = find_w_cordinates(X_train1, X_train2)\n",
    "    \n",
    "    # 2. Find Threshold\n",
    "    threshold = find_threshold(X_train1, X_train2, W, dataset_name)\n",
    "    \n",
    "    # 3. Find Predictions for the Test Data by Projecting onto W and comparing to the threshold\n",
    "    projections, y_predicted = find_predictions(X_test, W, threshold)\n",
    "    \n",
    "    # Plot the projections\n",
    "    plot_projections(projections, y_test, threshold, dataset_name)\n",
    "    \n",
    "    print('W',W)\n",
    "    print('Threshold:',threshold)\n",
    "    print('accuracy:',accuracy(y_test , y_predicted))\n",
    "    print('precision:',precision(y_test , y_predicted))\n",
    "    print('recall:',recall(y_test , y_predicted))\n",
    "    print('f_score:',f_score(y_test , y_predicted)) "
   ]
  },
  {
   "cell_type": "markdown",
   "metadata": {
    "colab_type": "text",
    "id": "q_iFzK5xlphJ"
   },
   "source": [
    "# DATASET - 1"
   ]
  },
  {
   "cell_type": "code",
   "execution_count": 13,
   "metadata": {
    "colab": {},
    "colab_type": "code",
    "id": "aREBe9pelphK",
    "outputId": "bd851b1f-d7e5-4325-cdaf-0309de96fe33"
   },
   "outputs": [
    {
     "name": "stdout",
     "output_type": "stream",
     "text": [
      "TESTCASE - 1\n"
     ]
    },
    {
     "data": {
      "image/png": "[encoded data removed]",
      "text/plain": [
       "<Figure size 432x288 with 1 Axes>"
      ]
     },
     "metadata": {
      "needs_background": "light"
     },
     "output_type": "display_data"
    },
    {
     "data": {
      "image/png": "[encoded data removed]",
      "text/plain": [
       "<Figure size 432x288 with 1 Axes>"
      ]
     },
     "metadata": {
      "needs_background": "light"
     },
     "output_type": "display_data"
    },
    {
     "name": "stdout",
     "output_type": "stream",
     "text": [
      "W [0.03304637 0.99945382]\n",
      "Threshold: -0.15207088287130205\n",
      "accuracy: 0.993\n",
      "precision: 0.9939879759519038\n",
      "recall: 0.992\n",
      "f_score: 0.9929929929929929\n"
     ]
    }
   ],
   "source": [
    "data = pd.read_csv('data/a1_d1.csv', header=None)\n",
    "\n",
    "\"\"\"\n",
    "N = total number of points in the given dataset\n",
    "\n",
    "X = [\n",
    "     [f1, f2, f3, ..] (1),\n",
    "     [f1, f2, f3, ..] (2),\n",
    "     [..............] (.),\n",
    "     [..............] (.),\n",
    "     [..............] (N)\n",
    "    ]\n",
    "    \n",
    "y = [label1, label2, label3, ....labelN]\n",
    "\n",
    "\"\"\"\n",
    "\n",
    "# X => Feature vectors of all the points in the given dataset\n",
    "# y => Corresponding labels\n",
    "\n",
    "X = data[[0,1]]\n",
    "y = data[[2]]\n",
    "\n",
    "# label = 1 -> Class 1\n",
    "# label = 0 -> Class 2\n",
    "\n",
    "# X_1 => Feature vectors of all the points in class1\n",
    "# X_2 => Feature vectors of all the points in class2\n",
    "\n",
    "X_1 = data.loc[data[2]==1][[0,1]]\n",
    "X_2 = data.loc[data[2]==0][[0,1]]\n",
    "\n",
    "print('TESTCASE - 1')\n",
    "\n",
    "fisher(X_1, X_2, X, y.values, \"a1_d1\")"
   ]
  },
  {
   "cell_type": "markdown",
   "metadata": {
    "colab_type": "text",
    "id": "QTWIeT9ilphP"
   },
   "source": [
    "# DATASET - 2"
   ]
  },
  {
   "cell_type": "code",
   "execution_count": 14,
   "metadata": {
    "colab": {},
    "colab_type": "code",
    "id": "JlW17kM0lphQ",
    "outputId": "633494a3-799c-40f0-8837-ad5d7b622ca1"
   },
   "outputs": [
    {
     "name": "stdout",
     "output_type": "stream",
     "text": [
      "TESTCASE - 2\n"
     ]
    },
    {
     "data": {
      "image/png": "[encoded data removed]",
      "text/plain": [
       "<Figure size 432x288 with 1 Axes>"
      ]
     },
     "metadata": {
      "needs_background": "light"
     },
     "output_type": "display_data"
    },
    {
     "data": {
      "image/png": "[encoded data removed]",
      "text/plain": [
       "<Figure size 432x288 with 1 Axes>"
      ]
     },
     "metadata": {
      "needs_background": "light"
     },
     "output_type": "display_data"
    },
    {
     "name": "stdout",
     "output_type": "stream",
     "text": [
      "W [-0.00655686 -0.01823739  0.99981218]\n",
      "Threshold: -0.3893028020993765\n",
      "accuracy: 1.0\n",
      "precision: 1.0\n",
      "recall: 1.0\n",
      "f_score: 1.0\n"
     ]
    }
   ],
   "source": [
    "data = pd.read_csv('data/a1_d2.csv', header=None)\n",
    "\n",
    "\"\"\"\n",
    "N = total number of points in the given dataset\n",
    "\n",
    "X = [\n",
    "     [f1, f2, f3, ..] (1),\n",
    "     [f1, f2, f3, ..] (2),\n",
    "     [..............] (.),\n",
    "     [..............] (.),\n",
    "     [..............] (N)\n",
    "    ]\n",
    "    \n",
    "y = [label1, label2, label3, ....labelN]\n",
    "\n",
    "\"\"\"\n",
    "\n",
    "# X => Feature vectors of all the points in the given dataset\n",
    "# y => Corresponding labels\n",
    "\n",
    "X = data[[0,1,2]]\n",
    "y = data[[3]]\n",
    "\n",
    "# label = 1 -> Class 1\n",
    "# label = 0 -> Class 2\n",
    "\n",
    "# X_1 => Feature vectors of all the points in class1\n",
    "# X_2 => Feature vectors all the points in class2\n",
    "\n",
    "X_1 = data.loc[data[3]==1][[0,1,2]]\n",
    "X_2 = data.loc[data[3]==0][[0,1,2]]\n",
    "\n",
    "print('TESTCASE - 2')\n",
    "fisher(X_1, X_2, X, y.values, \"a1_d2\")"
   ]
  }
 ],
 "metadata": {
  "colab": {
   "name": "fisher_nosplit.ipynb",
   "provenance": []
  },
  "kernelspec": {
   "display_name": "Python 3",
   "language": "python",
   "name": "python3"
  },
  "language_info": {
   "codemirror_mode": {
    "name": "ipython",
    "version": 3
   },
   "file_extension": ".py",
   "mimetype": "text/x-python",
   "name": "python",
   "nbconvert_exporter": "python",
   "pygments_lexer": "ipython3",
   "version": "3.7.6"
  }
 },
 "nbformat": 4,
 "nbformat_minor": 1
}
